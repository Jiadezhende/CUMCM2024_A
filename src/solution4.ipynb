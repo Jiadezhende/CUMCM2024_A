{
 "cells": [
  {
   "cell_type": "markdown",
   "id": "c3414b2a",
   "metadata": {},
   "source": [
    "# 问题四 四阶段轨迹追踪"
   ]
  },
  {
   "cell_type": "code",
   "execution_count": 1,
   "id": "33ddaee0",
   "metadata": {},
   "outputs": [],
   "source": [
    "from model_4 import Model_4"
   ]
  },
  {
   "cell_type": "code",
   "execution_count": 2,
   "id": "ed0edbcf",
   "metadata": {},
   "outputs": [],
   "source": [
    "# 初始化模型参数\n",
    "num_sections = 223  # 板凳龙节数\n",
    "head_length = 2.86  # 头部长度 (m)\n",
    "body_length = 1.65  # 身体每节长度 (m)  \n",
    "distance = 0.55  # 螺距 (m)\n",
    "extension = 0.275  # 连接点到窄边的距离 (m)\n",
    "width = 0.3  # 宽度 (m)\n",
    "r = 4.5  # 掉头区域半径 (m)\n",
    "k = 2.0  # r_A/r_B\n",
    "\n",
    "model = Model_4(num_sections, head_length, body_length, distance, extension, width, r, k)\n"
   ]
  }
 ],
 "metadata": {
  "kernelspec": {
   "display_name": "Python 3",
   "language": "python",
   "name": "python3"
  },
  "language_info": {
   "codemirror_mode": {
    "name": "ipython",
    "version": 3
   },
   "file_extension": ".py",
   "mimetype": "text/x-python",
   "name": "python",
   "nbconvert_exporter": "python",
   "pygments_lexer": "ipython3",
   "version": "3.13.5"
  }
 },
 "nbformat": 4,
 "nbformat_minor": 5
}
